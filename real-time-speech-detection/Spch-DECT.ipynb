{
 "cells": [
  {
   "cell_type": "markdown",
   "id": "e02c8f21-9590-4017-aa35-f36fbd786bd0",
   "metadata": {},
   "source": [
    "GETTING THE AUDIO DEVICE INFO"
   ]
  },
  {
   "cell_type": "code",
   "execution_count": null,
   "id": "62ed089d-c123-48df-95bb-6c18e5e74e22",
   "metadata": {},
   "outputs": [],
   "source": [
    "import pyaudio\n",
    "\n",
    "p=pyaudio.PyAudio()\n",
    "for i in range(p.get_device_count()):\n",
    "    print(p.get_device_info_by_index(i))\n",
    "\n",
    "p.terminate()"
   ]
  },
  {
   "cell_type": "markdown",
   "id": "f6fd55d7-d3a0-4a1c-b1ea-ee6259ffefae",
   "metadata": {},
   "source": [
    "The main code"
   ]
  },
  {
   "cell_type": "code",
   "execution_count": 5,
   "id": "46a1a476-9853-40a8-991f-19a337952bea",
   "metadata": {},
   "outputs": [
    {
     "data": {
      "application/vnd.jupyter.widget-view+json": {
       "model_id": "f0e9958779be478ea309cf581b590213",
       "version_major": 2,
       "version_minor": 0
      },
      "text/plain": [
       "Button(button_style='success', description='Record', icon='microphone', style=ButtonStyle())"
      ]
     },
     "metadata": {},
     "output_type": "display_data"
    },
    {
     "data": {
      "application/vnd.jupyter.widget-view+json": {
       "model_id": "b9a5cc96d2744ea5a4aab6cd69cd3f95",
       "version_major": 2,
       "version_minor": 0
      },
      "text/plain": [
       "Button(button_style='warning', description='Stop', icon='stop', style=ButtonStyle())"
      ]
     },
     "metadata": {},
     "output_type": "display_data"
    },
    {
     "data": {
      "application/vnd.jupyter.widget-view+json": {
       "model_id": "489b926a6660445ca24b420238880a7a",
       "version_major": 2,
       "version_minor": 0
      },
      "text/plain": [
       "Output()"
      ]
     },
     "metadata": {},
     "output_type": "display_data"
    }
   ],
   "source": [
    "import pyaudio\n",
    "import subprocess\n",
    "import json\n",
    "from vosk import Model, KaldiRecognizer\n",
    "import ipywidgets as widgets\n",
    "from IPython.display import display\n",
    "from threading import Thread\n",
    "from queue import Queue\n",
    "\n",
    "CHANNELS = 1\n",
    "FRAME_RATE = 16000\n",
    "RECORD_SECONDS = 2\n",
    "AUDIO_FORMAT = pyaudio.paInt16\n",
    "SAMPLE_SIZE = 2\n",
    "\n",
    "model = Model(model_name=\"vosk-model-small-en-us-0.15\")\n",
    "rec = KaldiRecognizer(model, FRAME_RATE)\n",
    "rec.SetWords(True)\n",
    "\n",
    "messages = Queue()\n",
    "recordings = Queue()\n",
    "\n",
    "\n",
    "def record_microphone(chunk=512):\n",
    "    p = pyaudio.PyAudio()\n",
    "    stream = p.open(format=AUDIO_FORMAT,\n",
    "                    channels=CHANNELS,\n",
    "                    rate=FRAME_RATE,\n",
    "                    input=True,\n",
    "                    input_device_index=2,  \n",
    "                    frames_per_buffer=chunk)\n",
    "    \n",
    "    frames = []\n",
    "    \n",
    "    \n",
    "    while not messages.empty():\n",
    "        data = stream.read(chunk)\n",
    "        frames.append(data)\n",
    "        \n",
    "        \n",
    "        if len(frames) >= (FRAME_RATE * RECORD_SECONDS) / chunk:\n",
    "            recordings.put(frames.copy())\n",
    "            frames = []  \n",
    "\n",
    "    stream.stop_stream()\n",
    "    stream.close()\n",
    "    p.terminate()\n",
    "\n",
    "\n",
    "def speech_recognition(output):\n",
    "    while not messages.empty():\n",
    "        frames = recordings.get()\n",
    "        print(\"Received frames for transcription\")\n",
    "        \n",
    "        if rec.AcceptWaveform(b''.join(frames)):\n",
    "            result = rec.Result()\n",
    "            text = json.loads(result)[\"text\"]\n",
    "            print(\"Recognized TEXT:==>\", text)\n",
    "            \n",
    "           \n",
    "            with output:\n",
    "                output.append_stdout(f\"Recognized: {text}\\n\")\n",
    "            \n",
    "            cased = subprocess.check_output(\"python recasepunc/recasepunc.py predict recasepunc/checkpoint\", shell=True, text=True, input=text)\n",
    "            with output:\n",
    "                output.append_stdout(f\"Cased: {cased}\\n\")\n",
    "\n",
    "record_button = widgets.Button(description=\"Record\", disabled=False, button_style=\"success\", icon=\"microphone\")\n",
    "stop_button = widgets.Button(description=\"Stop\", disabled=False, button_style=\"warning\", icon=\"stop\")\n",
    "output = widgets.Output()\n",
    "\n",
    "\n",
    "def start_recording(data):\n",
    "    messages.put(True)\n",
    "    with output:\n",
    "        display(\"Starting...\")\n",
    "        record_thread = Thread(target=record_microphone)\n",
    "        record_thread.start()\n",
    "        transcribe_thread = Thread(target=speech_recognition, args=(output,))\n",
    "        transcribe_thread.start()\n",
    "\n",
    "\n",
    "def stop_recording(data):\n",
    "    while not messages.empty():\n",
    "        messages.get() \n",
    "    with output:\n",
    "        display(\"Stopped.\")\n",
    "\n",
    "\n",
    "record_button.on_click(start_recording)\n",
    "stop_button.on_click(stop_recording)\n",
    "\n",
    "display(record_button, stop_button, output)\n"
   ]
  },
  {
   "cell_type": "code",
   "execution_count": null,
   "id": "b3a6361d-c891-488a-bd3a-4bfb020a9b82",
   "metadata": {},
   "outputs": [],
   "source": []
  },
  {
   "cell_type": "code",
   "execution_count": null,
   "id": "3008f852-dd2d-4229-be25-dc1d4b94edd1",
   "metadata": {},
   "outputs": [],
   "source": []
  }
 ],
 "metadata": {
  "kernelspec": {
   "display_name": "Python 3 (ipykernel)",
   "language": "python",
   "name": "python3"
  },
  "language_info": {
   "codemirror_mode": {
    "name": "ipython",
    "version": 3
   },
   "file_extension": ".py",
   "mimetype": "text/x-python",
   "name": "python",
   "nbconvert_exporter": "python",
   "pygments_lexer": "ipython3",
   "version": "3.12.4"
  }
 },
 "nbformat": 4,
 "nbformat_minor": 5
}
